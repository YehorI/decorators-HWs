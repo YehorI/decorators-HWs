{
 "cells": [
  {
   "attachments": {},
   "cell_type": "markdown",
   "metadata": {},
   "source": [
    "# **Блок 1**"
   ]
  },
  {
   "attachments": {},
   "cell_type": "markdown",
   "metadata": {},
   "source": [
    "### **Easy**"
   ]
  },
  {
   "attachments": {},
   "cell_type": "markdown",
   "metadata": {},
   "source": [
    "1. Написать простую функцию, которая на вход принимает строку ('test') и целое число (3), а возвращает строку вида 'testTESTtest' - исходную строку, умноженную на 3, в разном регистре.\n"
   ]
  },
  {
   "cell_type": "code",
   "execution_count": 29,
   "metadata": {},
   "outputs": [],
   "source": [
    "def multiply_varying_case(s: str, n: int) -> str:\n",
    "    \"\"\"concatenate string n times varying case each concatenation\"\"\"\n",
    "\n",
    "    if n == 0: return ''\n",
    "    return f'{s}{multiply_varying_case(s, n - 1).swapcase()}'\n",
    "    \n"
   ]
  },
  {
   "cell_type": "code",
   "execution_count": 28,
   "metadata": {},
   "outputs": [],
   "source": [
    "assert 'testTESTtest' == multiply_varying_case('test', 3)\n",
    "assert 'test' == multiply_varying_case('test', 1)\n",
    "assert 'testTEST' == multiply_varying_case('test', 2)"
   ]
  },
  {
   "attachments": {},
   "cell_type": "markdown",
   "metadata": {},
   "source": [
    "2. Записать эту функцию в произвольную переменную. Напечатать эту переменную на экран. Что вы видите?"
   ]
  },
  {
   "cell_type": "code",
   "execution_count": 30,
   "metadata": {},
   "outputs": [
    {
     "data": {
      "text/plain": [
       "<function __main__.multiply_varying_case(s: str, n: int) -> str>"
      ]
     },
     "execution_count": 30,
     "metadata": {},
     "output_type": "execute_result"
    }
   ],
   "source": [
    "smth = multiply_varying_case\n",
    "smth"
   ]
  },
  {
   "attachments": {},
   "cell_type": "markdown",
   "metadata": {},
   "source": [
    "3. Вызвать функцию суммирования через переменную, в которую вы только что её записали."
   ]
  },
  {
   "cell_type": "code",
   "execution_count": 31,
   "metadata": {},
   "outputs": [
    {
     "data": {
      "text/plain": [
       "5050"
      ]
     },
     "execution_count": 31,
     "metadata": {},
     "output_type": "execute_result"
    }
   ],
   "source": [
    "L = [i for i in range(1, 101)]\n",
    "copy_sum = sum\n",
    "copy_sum(L)"
   ]
  },
  {
   "attachments": {},
   "cell_type": "markdown",
   "metadata": {},
   "source": [
    "### **Medium**"
   ]
  },
  {
   "attachments": {},
   "cell_type": "markdown",
   "metadata": {},
   "source": [
    "1. Написать функцию, которая на вход будет принимать произвольное количество аргументов и возвращать их сумму."
   ]
  },
  {
   "cell_type": "code",
   "execution_count": 32,
   "metadata": {},
   "outputs": [],
   "source": [
    "def mysum(*args: int | float) -> int | float:\n",
    "    \"\"\"adds up all arguments\"\"\"\n",
    "    \n",
    "    summ = 0\n",
    "    for arg in args:\n",
    "        summ += arg\n",
    "    return summ"
   ]
  },
  {
   "cell_type": "code",
   "execution_count": 37,
   "metadata": {},
   "outputs": [
    {
     "data": {
      "text/plain": [
       "0"
      ]
     },
     "execution_count": 37,
     "metadata": {},
     "output_type": "execute_result"
    }
   ],
   "source": [
    "L =[i for i in range(1, 101)]\n",
    "assert sum(L) == mysum(*L)\n",
    "mysum()"
   ]
  },
  {
   "attachments": {},
   "cell_type": "markdown",
   "metadata": {},
   "source": [
    "2. В сигнатуре функции объявить 4 обязательных аргумента, но оставить возможность передавать в неё сколько угодно дополнительных аргументов. Попробуйте вызвать функцию в следующих ситуациях и объясните результат:\n",
    "- прокинуть в функцию только 1 аргумент\n",
    "- прокинуть аргументы таким образом, чтобы обязательный аргумент был передан одновременно позиционно и по ключу\n",
    "- создать кортеж со значениями и распаковать его при вызове функции с помощью *\n",
    "- создать словарь со значениями и распаковать его при вызове функции с помощью * и **: что наблюдаете? Почему?"
   ]
  },
  {
   "cell_type": "code",
   "execution_count": 8,
   "metadata": {},
   "outputs": [],
   "source": [
    "def make4obligatory_args(foo):\n",
    "    def wrapper(n1, n2, n3, n4, *args):\n",
    "        return foo(n1, n2, n3, n4, *args)\n",
    "    return wrapper"
   ]
  },
  {
   "cell_type": "code",
   "execution_count": 122,
   "metadata": {},
   "outputs": [],
   "source": [
    "@make4obligatory_args\n",
    "def mysum(*args: int | float) -> int | float:\n",
    "    \"\"\"adds up all arguments\"\"\"\n",
    "    \n",
    "    summ = 0\n",
    "    for arg in args:\n",
    "        summ += arg\n",
    "    return summ"
   ]
  },
  {
   "cell_type": "code",
   "execution_count": 123,
   "metadata": {},
   "outputs": [
    {
     "ename": "TypeError",
     "evalue": "make4obligatory_args.<locals>.wrapper() missing 3 required positional arguments: 'n2', 'n3', and 'n4'",
     "output_type": "error",
     "traceback": [
      "\u001b[1;31m---------------------------------------------------------------------------\u001b[0m",
      "\u001b[1;31mTypeError\u001b[0m                                 Traceback (most recent call last)",
      "Cell \u001b[1;32mIn[123], line 1\u001b[0m\n\u001b[1;32m----> 1\u001b[0m mysum(\u001b[39m1\u001b[39;49m)\n",
      "\u001b[1;31mTypeError\u001b[0m: make4obligatory_args.<locals>.wrapper() missing 3 required positional arguments: 'n2', 'n3', and 'n4'"
     ]
    }
   ],
   "source": [
    "mysum(1)"
   ]
  },
  {
   "cell_type": "code",
   "execution_count": 124,
   "metadata": {},
   "outputs": [
    {
     "data": {
      "text/plain": [
       "10"
      ]
     },
     "execution_count": 124,
     "metadata": {},
     "output_type": "execute_result"
    }
   ],
   "source": [
    "mysum(1, 2, 3, n4=4)"
   ]
  },
  {
   "cell_type": "code",
   "execution_count": 125,
   "metadata": {},
   "outputs": [
    {
     "data": {
      "text/plain": [
       "5050"
      ]
     },
     "execution_count": 125,
     "metadata": {},
     "output_type": "execute_result"
    }
   ],
   "source": [
    "T = (i for i in range(1, 101))\n",
    "mysum(*T)"
   ]
  },
  {
   "cell_type": "code",
   "execution_count": 126,
   "metadata": {},
   "outputs": [
    {
     "name": "stdout",
     "output_type": "stream",
     "text": [
      "A B C D E F G H I J K L M N O P Q R S T U V W X Y Z\n"
     ]
    }
   ],
   "source": [
    "D = {chr(i): i - 65 for i in range(65, 65 + 26)}\n",
    "print(*D, sep=' ')"
   ]
  },
  {
   "attachments": {},
   "cell_type": "markdown",
   "metadata": {},
   "source": [
    "Поскольку *D итерирует по ключам возникнет ошибка при попытке прибавить дефолтный 0 к A"
   ]
  },
  {
   "cell_type": "code",
   "execution_count": 127,
   "metadata": {},
   "outputs": [
    {
     "ename": "TypeError",
     "evalue": "unsupported operand type(s) for +=: 'int' and 'str'",
     "output_type": "error",
     "traceback": [
      "\u001b[1;31m---------------------------------------------------------------------------\u001b[0m",
      "\u001b[1;31mTypeError\u001b[0m                                 Traceback (most recent call last)",
      "Cell \u001b[1;32mIn[127], line 1\u001b[0m\n\u001b[1;32m----> 1\u001b[0m mysum(\u001b[39m*\u001b[39;49mD)\n",
      "Cell \u001b[1;32mIn[121], line 3\u001b[0m, in \u001b[0;36mmake4obligatory_args.<locals>.wrapper\u001b[1;34m(n1, n2, n3, n4, *args)\u001b[0m\n\u001b[0;32m      2\u001b[0m \u001b[39mdef\u001b[39;00m \u001b[39mwrapper\u001b[39m(n1, n2, n3, n4, \u001b[39m*\u001b[39margs):\n\u001b[1;32m----> 3\u001b[0m     \u001b[39mreturn\u001b[39;00m foo(n1, n2, n3, n4, \u001b[39m*\u001b[39;49margs)\n",
      "Cell \u001b[1;32mIn[122], line 7\u001b[0m, in \u001b[0;36mmysum\u001b[1;34m(*args)\u001b[0m\n\u001b[0;32m      5\u001b[0m summ \u001b[39m=\u001b[39m \u001b[39m0\u001b[39m\n\u001b[0;32m      6\u001b[0m \u001b[39mfor\u001b[39;00m arg \u001b[39min\u001b[39;00m args:\n\u001b[1;32m----> 7\u001b[0m     summ \u001b[39m+\u001b[39m\u001b[39m=\u001b[39m arg\n\u001b[0;32m      8\u001b[0m \u001b[39mreturn\u001b[39;00m summ\n",
      "\u001b[1;31mTypeError\u001b[0m: unsupported operand type(s) for +=: 'int' and 'str'"
     ]
    }
   ],
   "source": [
    "mysum(*D)"
   ]
  },
  {
   "cell_type": "code",
   "execution_count": 128,
   "metadata": {},
   "outputs": [
    {
     "ename": "TypeError",
     "evalue": "make4obligatory_args.<locals>.wrapper() got an unexpected keyword argument 'A'",
     "output_type": "error",
     "traceback": [
      "\u001b[1;31m---------------------------------------------------------------------------\u001b[0m",
      "\u001b[1;31mTypeError\u001b[0m                                 Traceback (most recent call last)",
      "Cell \u001b[1;32mIn[128], line 1\u001b[0m\n\u001b[1;32m----> 1\u001b[0m mysum(\u001b[39m*\u001b[39m\u001b[39m*\u001b[39mD)\n",
      "\u001b[1;31mTypeError\u001b[0m: make4obligatory_args.<locals>.wrapper() got an unexpected keyword argument 'A'"
     ]
    }
   ],
   "source": [
    "mysum(**D)"
   ]
  },
  {
   "cell_type": "code",
   "execution_count": 129,
   "metadata": {},
   "outputs": [],
   "source": [
    "D3 = {'n1': 1, 'n2': 2, 'n3': 3, 'n4': 4}"
   ]
  },
  {
   "cell_type": "code",
   "execution_count": 130,
   "metadata": {},
   "outputs": [
    {
     "data": {
      "text/plain": [
       "10"
      ]
     },
     "execution_count": 130,
     "metadata": {},
     "output_type": "execute_result"
    }
   ],
   "source": [
    "mysum(**D3)"
   ]
  },
  {
   "cell_type": "code",
   "execution_count": 76,
   "metadata": {},
   "outputs": [],
   "source": [
    "D2 = {f'n{i}': i for i in range(1, 101)}"
   ]
  },
  {
   "cell_type": "code",
   "execution_count": 131,
   "metadata": {},
   "outputs": [
    {
     "ename": "TypeError",
     "evalue": "make4obligatory_args.<locals>.wrapper() got an unexpected keyword argument 'n5'",
     "output_type": "error",
     "traceback": [
      "\u001b[1;31m---------------------------------------------------------------------------\u001b[0m",
      "\u001b[1;31mTypeError\u001b[0m                                 Traceback (most recent call last)",
      "Cell \u001b[1;32mIn[131], line 1\u001b[0m\n\u001b[1;32m----> 1\u001b[0m mysum(\u001b[39m*\u001b[39m\u001b[39m*\u001b[39mD2)\n",
      "\u001b[1;31mTypeError\u001b[0m: make4obligatory_args.<locals>.wrapper() got an unexpected keyword argument 'n5'"
     ]
    }
   ],
   "source": [
    "mysum(**D2)"
   ]
  },
  {
   "attachments": {},
   "cell_type": "markdown",
   "metadata": {},
   "source": [
    "## **Hard**"
   ]
  },
  {
   "attachments": {},
   "cell_type": "markdown",
   "metadata": {},
   "source": [
    "1. Модифицировать функцию таким образом, чтобы для суммирования брались только обязательные аргументы, первые 2 аргумента из дополнительных позиционных аргументов и любой аргумент из дополнительных аргументов (если они есть), переданных по ключу (если они есть)."
   ]
  },
  {
   "cell_type": "code",
   "execution_count": 9,
   "metadata": {},
   "outputs": [],
   "source": [
    "def sum_4obligatory_2first_pos_and_1st_kwarg(foo):\n",
    "    def wrapper(n1, n2, n3, n4, *args, **kwargs):\n",
    "        return foo(n1, n2, n3, n4, *args[:2], kwargs[list(kwargs)[0]] if kwargs else 0)\n",
    "    return wrapper"
   ]
  },
  {
   "cell_type": "code",
   "execution_count": 10,
   "metadata": {},
   "outputs": [],
   "source": [
    "@sum_4obligatory_2first_pos_and_1st_kwarg\n",
    "@make4obligatory_args\n",
    "def mysum(*args: int | float) -> int | float:\n",
    "    \"\"\"adds up all arguments\"\"\"\n",
    "    \n",
    "    summ = 0\n",
    "    for arg in args:\n",
    "        summ += arg\n",
    "    return summ"
   ]
  },
  {
   "cell_type": "code",
   "execution_count": 11,
   "metadata": {},
   "outputs": [],
   "source": [
    "L1 = [1, 2, 3, 4, 5, 6]\n",
    "k = 7"
   ]
  },
  {
   "cell_type": "code",
   "execution_count": 14,
   "metadata": {},
   "outputs": [
    {
     "data": {
      "text/plain": [
       "28"
      ]
     },
     "execution_count": 14,
     "metadata": {},
     "output_type": "execute_result"
    }
   ],
   "source": [
    "mysum(*L1, k=k)"
   ]
  },
  {
   "cell_type": "code",
   "execution_count": 16,
   "metadata": {},
   "outputs": [
    {
     "data": {
      "text/plain": [
       "21"
      ]
     },
     "execution_count": 16,
     "metadata": {},
     "output_type": "execute_result"
    }
   ],
   "source": [
    "mysum(*L1)"
   ]
  }
 ],
 "metadata": {
  "kernelspec": {
   "display_name": "env",
   "language": "python",
   "name": "python3"
  },
  "language_info": {
   "codemirror_mode": {
    "name": "ipython",
    "version": 3
   },
   "file_extension": ".py",
   "mimetype": "text/x-python",
   "name": "python",
   "nbconvert_exporter": "python",
   "pygments_lexer": "ipython3",
   "version": "3.10.9"
  },
  "orig_nbformat": 4
 },
 "nbformat": 4,
 "nbformat_minor": 2
}
